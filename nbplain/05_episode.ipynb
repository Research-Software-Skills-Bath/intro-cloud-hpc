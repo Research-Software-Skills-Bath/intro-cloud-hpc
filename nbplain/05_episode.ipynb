{
 "cells": [
  {
   "cell_type": "markdown",
   "id": "legendary-heating",
   "metadata": {},
   "source": [
    "# Software"
   ]
  },
  {
   "cell_type": "markdown",
   "id": "surprising-bibliography",
   "metadata": {},
   "source": [
    "## Overview:\n",
    "- **Teaching:** 10 min\n",
    "- **Exercises:** 5 min\n",
    "\n",
    "**Questions**\n",
    "- How do I access software?\n",
    "- What libraries are available?\n",
    "- How can I access different applications?\n",
    "- What tools are there to help me?\n",
    "- What application should I choose on each instance?\n",
    "\n",
    "**Objectives**\n",
    "- Know that software on Janus is managed with `module` and understand how to use it\n",
    "- Know that software is collected into groups on different instances\n"
   ]
  },
  {
   "cell_type": "markdown",
   "id": "agreed-laptop",
   "metadata": {},
   "source": [
    "## `module`\n",
    "\n",
    "On Janus `module` is used to manage different libraries and pieces of software.  Unlike you own machine where you likely have one set of up packages each running with the latest versions on Janus there are many different applications each with different versions and libraries that they rely on.  Tools like module ensure researchers can access the versions of applications and libraries they want and allow the service to be managed more easily.  It also means that the correct dependencies, typically libraries that are used to compile applications can be loaded automatically making life easier for users.\n",
    "\n",
    "You can check what modules are loaded when you first log-in to Janus:"
   ]
  },
  {
   "cell_type": "markdown",
   "id": "convinced-deadline",
   "metadata": {},
   "source": [
    "```bash\n",
    "module list\n",
    "```\n",
    "\n",
    "![storage](../images/module_list.png)"
   ]
  },
  {
   "cell_type": "markdown",
   "id": "amber-private",
   "metadata": {},
   "source": [
    "You can also run this command at any time to check which modules you have loaded or removed.\n",
    "By default only `gcc-9.2.0`, `mpi/openmpi`, `mkl/mkl-2021.1` are loaded.\n",
    "gcc provides the standard serial gnu compiler suite, openmpi is the contains the openmMPI MPI implementation with parallel mpi libraries and compiler wrappers and mkl is Intel's Math Kernel Library.  "
   ]
  },
  {
   "cell_type": "markdown",
   "id": "studied-means",
   "metadata": {},
   "source": [
    "You can see what modules are available with \n",
    "\n",
    "```bash\n",
    "module avail\n",
    "```\n",
    "\n",
    "![storage](../images/module_avail.png)"
   ]
  },
  {
   "cell_type": "markdown",
   "id": "mounted-cursor",
   "metadata": {},
   "source": [
    "The software modules will be updated as we build, test and broaden the software stack. \n",
    "\n",
    "The modules are seperated by the instance type where appropriate, and the general modules can be used any instance\n",
    "\n",
    "| Section | Content |\n",
    "|---|---|\n",
    "| /apps/hc/modulefiles | Applications and libraries build for the hc instance |\n",
    "| /apps/hbv3/modulefiles  | Applications and libraries build for the hbv3 instance |\n",
    "| /apps/hbv2/modulefiles  | Applications and libraries build for the hbv2 instance |\n",
    "| /usr/share/Modules/modulefiles | Compilers, MPI & Intel Libraries |\n",
    "| /apps/modulefiles | General applications for any instance |\n"
   ]
  },
  {
   "cell_type": "code",
   "execution_count": null,
   "id": "strong-marina",
   "metadata": {},
   "outputs": [],
   "source": []
  }
 ],
 "metadata": {
  "kernelspec": {
   "display_name": "Python 3",
   "language": "python",
   "name": "python3"
  },
  "language_info": {
   "codemirror_mode": {
    "name": "ipython",
    "version": 3
   },
   "file_extension": ".py",
   "mimetype": "text/x-python",
   "name": "python",
   "nbconvert_exporter": "python",
   "pygments_lexer": "ipython3",
   "version": "3.9.7"
  }
 },
 "nbformat": 4,
 "nbformat_minor": 5
}
