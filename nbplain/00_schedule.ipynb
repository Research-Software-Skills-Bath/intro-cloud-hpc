{
 "cells": [
  {
   "cell_type": "markdown",
   "metadata": {
    "slideshow": {
     "slide_type": "slide"
    }
   },
   "source": [
    "# Introduction to the Cloud HPC"
   ]
  },
  {
   "cell_type": "markdown",
   "metadata": {
    "slideshow": {
     "slide_type": "slide"
    }
   },
   "source": [
    "The following onboarding workshop is an introduction to the new Cloud HPC facility provided by the Advancing Research Computing team and the University of Bath."
   ]
  },
  {
   "cell_type": "markdown",
   "metadata": {
    "slideshow": {
     "slide_type": "slide"
    }
   },
   "source": [
    "## Prerequisites\n",
    "\n",
    "In order to complete the workshop you should be familiar with:\n",
    "* The linux command line\n",
    "* Accessing and submitting jobs to High Performance Computing clusters as a user"
   ]
  },
  {
   "cell_type": "markdown",
   "metadata": {
    "slideshow": {
     "slide_type": "slide"
    }
   },
   "source": [
    "## Schedule\n",
    "\n",
    "Approximate timings for the lesson:\n",
    "\n",
    "| Time | Episode | Description |\n",
    "|---|---|---|\n",
    "| -:-- | [Setup](./00_setup.ipynb) | Setup for the lesson |\n",
    "| 0:00 | [Accessing the System](./01_episode.ipynb) | Logging onto the system |\n",
    "| 0:10 | [Slurm](./02_episode.ipynb) | A brief overview of slurm |\n",
    "| 0:20 | [Compute Instances](./03_episode.ipynb) | Overview of compute instances available | \n",
    "| 0:30 | [Spot vs Pay As You Go](./04_episode.ipynb) | Slurm partitions and pricing |\n",
    "| 0:35 | [Storage](./05_episode.ipynb) | Storage set-up and where to keep your data |\n",
    "| 0:40 | [Software](./06_episode.ipynb) | Using software modules |\n",
    "| 0:50 | [Running a job](./07_episode.ipynb) | Submitting a job |\n",
    "| 1:00 | [Phase 1 Users Teams](./08_episode.ipynb) | Getting support |"
   ]
  }
 ],
 "metadata": {
  "celltoolbar": "Slideshow",
  "kernelspec": {
   "display_name": "Python 3",
   "language": "python",
   "name": "python3"
  },
  "language_info": {
   "codemirror_mode": {
    "name": "ipython",
    "version": 3
   },
   "file_extension": ".py",
   "mimetype": "text/x-python",
   "name": "python",
   "nbconvert_exporter": "python",
   "pygments_lexer": "ipython3",
   "version": "3.9.7"
  }
 },
 "nbformat": 4,
 "nbformat_minor": 2
}
