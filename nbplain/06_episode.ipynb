{
 "cells": [
  {
   "cell_type": "markdown",
   "id": "lasting-boring",
   "metadata": {},
   "source": [
    "# Running a job"
   ]
  },
  {
   "cell_type": "markdown",
   "id": "surface-integral",
   "metadata": {},
   "source": [
    "## Openfoam\n",
    "\n",
    "We will run an example job using the OpenFoam 7 module for \n",
    "\n",
    "`OpenFoam_hbv3/gcc_9.2.0/openmpi_4.1.0/v7`"
   ]
  },
  {
   "cell_type": "markdown",
   "id": "discrete-action",
   "metadata": {},
   "source": [
    "Lets load the module:\n",
    "`module load OpenFoam_hbv3/gcc_9.2.0/openmpi_4.1.0/v7`\n",
    "\n",
    "Source the OpenFoam bashrc:\n",
    "\n",
    "```bash\n",
    "source $foamDotFile```\n",
    "\n",
    "Lets switch to our scratch space:\n",
    "\n",
    "```bash\n",
    "cd $SCRATCH\n",
    "```\n",
    "\n",
    "\n",
    "And copy over the run files:\n",
    "``` bash\n",
    "cp -r $WM_PROJECT_DIR/tutorials/multiphase/interFoam/laminar/damBreak ./```"
   ]
  },
  {
   "cell_type": "markdown",
   "id": "significant-radio",
   "metadata": {},
   "source": [
    "An example run script:\n",
    "    \n",
    "```bash\n",
    "#!/bin/bash\n",
    "#SBATCH --account=prj3_phase1\n",
    "#SBATCH --job-name=AMD\n",
    "#SBATCH --output=AMD.%j.o\n",
    "#SBATCH --error=AMD.%j.e\n",
    "#SBATCH --nodes=1\n",
    "#SBATCH --ntasks-per-node=16\n",
    "#SBATCH --partition=spot-hbv3-16\n",
    "#SBATCH --time=04:00:00\n",
    "\n",
    "module purge\n",
    "module load OpenFoam_hbv3/gcc_9.2.0/openmpi_4.1.0/hbv3\n",
    ". $foamDotFile\n",
    "./Allrun\n",
    "```"
   ]
  },
  {
   "cell_type": "markdown",
   "id": "agricultural-processor",
   "metadata": {},
   "source": [
    "Lets switch into the folder \n",
    "```bash\n",
    "cd damBreak\n",
    "```\n",
    "\n",
    "And after copying the above runscript into `run_job.slm` lets submit the job:\n",
    "\n",
    "```bash\n",
    "sbatch run_job.slm\n",
    "```"
   ]
  },
  {
   "cell_type": "code",
   "execution_count": null,
   "id": "acknowledged-reference",
   "metadata": {},
   "outputs": [],
   "source": []
  }
 ],
 "metadata": {
  "kernelspec": {
   "display_name": "Python 3",
   "language": "python",
   "name": "python3"
  },
  "language_info": {
   "codemirror_mode": {
    "name": "ipython",
    "version": 3
   },
   "file_extension": ".py",
   "mimetype": "text/x-python",
   "name": "python",
   "nbconvert_exporter": "python",
   "pygments_lexer": "ipython3",
   "version": "3.9.7"
  }
 },
 "nbformat": 4,
 "nbformat_minor": 5
}
