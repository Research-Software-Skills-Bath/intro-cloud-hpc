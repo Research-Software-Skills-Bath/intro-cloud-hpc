{
 "cells": [
  {
   "cell_type": "markdown",
   "id": "seven-property",
   "metadata": {},
   "source": [
    "# Running a job"
   ]
  },
  {
   "cell_type": "markdown",
   "id": "broken-portal",
   "metadata": {},
   "source": [
    "## Openfoam\n",
    "\n",
    "We will run an example job using the OpenFoam 7 module for \n",
    "\n",
    "`OpenFoam_hbv3/gcc_9.2.0/openmpi_4.1.0/v7`"
   ]
  },
  {
   "cell_type": "markdown",
   "id": "superb-burke",
   "metadata": {},
   "source": [
    "Let's load the module:\n",
    "```bash\n",
    "module load OpenFoam_hbv3/gcc_9.2.0/openmpi_4.1.0/v7\n",
    "```\n",
    "\n",
    "Source the OpenFoam bashrc:\n",
    "\n",
    "```bash\n",
    "source $foamDotFile```\n",
    "\n",
    "Lets switch to our scratch space:\n",
    "\n",
    "```bash\n",
    "cd $SCRATCH\n",
    "```\n",
    "\n",
    "\n",
    "And copy over the run files:\n",
    "``` bash\n",
    "cp -r $WM_PROJECT_DIR/tutorials/multiphase/interFoam/laminar/damBreak ./```"
   ]
  },
  {
   "cell_type": "markdown",
   "id": "empirical-planet",
   "metadata": {},
   "source": [
    "An example run script:\n",
    "    \n",
    "```bash\n",
    "#!/bin/bash\n",
    "#SBATCH --account=prj3_phase1\n",
    "#SBATCH --job-name=AMD\n",
    "#SBATCH --output=AMD.%j.o\n",
    "#SBATCH --error=AMD.%j.e\n",
    "#SBATCH --nodes=1\n",
    "#SBATCH --ntasks-per-node=16\n",
    "#SBATCH --partition=spot-hbv3-16\n",
    "#SBATCH --time=04:00:00\n",
    "\n",
    "module purge\n",
    "module load OpenFoam_hbv3/gcc_9.2.0/openmpi_4.1.0/v7\n",
    ". $foamDotFile\n",
    "./Allrun\n",
    "```"
   ]
  },
  {
   "cell_type": "markdown",
   "id": "occasional-joshua",
   "metadata": {},
   "source": [
    "Lets switch into the folder \n",
    "```bash\n",
    "cd damBreak\n",
    "```\n",
    "\n",
    "And after copying the above runscript into `run_job.slm` lets submit the job:\n",
    "\n",
    "```bash\n",
    "sbatch run_job.slm\n",
    "```"
   ]
  },
  {
   "cell_type": "markdown",
   "id": "heavy-medicare",
   "metadata": {},
   "source": [
    "## ANSYS\n",
    "\n",
    "```bash\n",
    "#!/bin/bash\n",
    "#SBATCH --job-name=Free_Surf\n",
    "#SBATCH --account=sysadmin\n",
    "#SBATCH --partition=spot-hc-44\n",
    "#SBATCH --time=2:00:00\n",
    "#SBATCH --nodes=1\n",
    "#SBATCH --tasks-per-node=44\n",
    "\n",
    "## Match the number of licenses to the cores requested\n",
    "#SBATCH --licenses=cfd_solve_level1@ansyslm:1,cfd_solve_level2@ansyslm:1,cfd_base@ansyslm:1\n",
    "\n",
    "env | grep SLURM | sort -d\n",
    "echo\n",
    "\n",
    "export CASE=\"Free_Surf\"\n",
    "\n",
    "## Load the required modules\n",
    "module load ansys/v212\n",
    "module list\n",
    "\n",
    "## Define files\n",
    "export DEFFILE=\"${CASE}.def\"\n",
    "\n",
    "## Define additional options\n",
    "OPTIONS=\"-double -batch\"\n",
    "\n",
    "CFX_PARALLEL=\"$CFX_BATCH_MODE $CFX_CCL_FILE $CFX_START_METHOD $CFX_PARTITION $CFX_PARTITIONER\"\n",
    "\n",
    "HOSTS=$(srun --ntasks-per-node $SLURM_CPUS_ON_NODE hostname | sort | uniq -c | awk '{print $2 \"*\" $1}' | paste -sd, -)\n",
    "echo \"HOSTS: $HOSTS\"\n",
    "echo \"\"\n",
    "\n",
    "# Run CFX5SOLVE\n",
    "cfx5solve -def Free_Surf.def ${OPTIONS} -start-method 'Intel MPI Distributed Parallel' -par-dist $HOSTS -partitioner ${CFXPARTITIONER}\n",
    "```"
   ]
  },
  {
   "cell_type": "markdown",
   "id": "gorgeous-leisure",
   "metadata": {},
   "source": [
    "### Matlab\n",
    "\n",
    "A hello world matlab script 'hello_world.m':\n",
    "\n",
    "```matlab\n",
    "disp('Hello, World');\n",
    "```\n",
    "\n",
    "An example run-script for a matlab job:\n",
    "\n",
    "```bash\n",
    "#!/bin/bash\n",
    "# Account to charge to\n",
    "#SBATCH --account=prj4_phase1\n",
    "#Name of the job\n",
    "#SBATCH --job-name=Matlab\n",
    "#SBATCH --output=Matlab.%j.o\n",
    "#SBATCH --error=Matlab.%j.e\n",
    "# Number of nodes requested\n",
    "#SBATCH --nodes=1\n",
    "# The no of tasks per node\n",
    "#SBATCH --ntasks-per-node=44\n",
    "# The partition to submit to\n",
    "#SBATCH --partition=spot-hc-44\n",
    "# The runtime\n",
    "#SBATCH --time=04:00:00\n",
    "\n",
    "module purge\n",
    "module load matlab/2020b\n",
    "matlab -nosplash -nodisplay -r \"hello_world; exit\"\n",
    "```"
   ]
  },
  {
   "cell_type": "code",
   "execution_count": null,
   "id": "qualified-medication",
   "metadata": {},
   "outputs": [],
   "source": []
  }
 ],
 "metadata": {
  "kernelspec": {
   "display_name": "Python 3",
   "language": "python",
   "name": "python3"
  },
  "language_info": {
   "codemirror_mode": {
    "name": "ipython",
    "version": 3
   },
   "file_extension": ".py",
   "mimetype": "text/x-python",
   "name": "python",
   "nbconvert_exporter": "python",
   "pygments_lexer": "ipython3",
   "version": "3.9.7"
  }
 },
 "nbformat": 4,
 "nbformat_minor": 5
}
