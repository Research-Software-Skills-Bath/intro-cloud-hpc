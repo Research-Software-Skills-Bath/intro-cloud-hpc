{
 "cells": [
  {
   "cell_type": "markdown",
   "id": "intensive-bulgarian",
   "metadata": {},
   "source": [
    "# Running a job"
   ]
  },
  {
   "cell_type": "markdown",
   "id": "legitimate-wallpaper",
   "metadata": {},
   "source": [
    "## Openfoam\n",
    "\n",
    "We will run an example job using the OpenFoam 7 module for \n",
    "\n",
    "`OpenFoam_hbv3/gcc_9.2.0/openmpi_4.1.0/v7`"
   ]
  },
  {
   "cell_type": "markdown",
   "id": "reliable-evaluation",
   "metadata": {},
   "source": [
    "Lets load the module:\n",
    "`module load OpenFoam_hbv3/gcc_9.2.0/openmpi_4.1.0/v7`\n",
    "\n",
    "Source the OpenFoam bashrc:\n",
    "\n",
    "```bash\n",
    "source $foamDotFile```\n",
    "\n",
    "Lets switch to our scratch space:\n",
    "\n",
    "```bash\n",
    "cd $SCRATCH\n",
    "```\n",
    "\n",
    "\n",
    "And copy over the run files:\n",
    "``` bash\n",
    "cp -r $WM_PROJECT_DIR/tutorials/multiphase/interFoam/laminar/damBreak ./```"
   ]
  },
  {
   "cell_type": "markdown",
   "id": "arabic-hundred",
   "metadata": {},
   "source": [
    "An example run script:\n",
    "    \n",
    "```bash\n",
    "#!/bin/bash\n",
    "#SBATCH --account=prj3_phase1\n",
    "#SBATCH --job-name=AMD\n",
    "#SBATCH --output=AMD.%j.o\n",
    "#SBATCH --error=AMD.%j.e\n",
    "#SBATCH --nodes=1\n",
    "#SBATCH --ntasks-per-node=16\n",
    "#SBATCH --partition=spot-hbv3-16\n",
    "#SBATCH --time=04:00:00\n",
    "\n",
    "module purge\n",
    "module load OpenFoam_hbv3/gcc_9.2.0/openmpi_4.1.0/hbv3\n",
    ". $foamDotFile\n",
    "./Allrun\n",
    "```"
   ]
  },
  {
   "cell_type": "markdown",
   "id": "behavioral-revision",
   "metadata": {},
   "source": [
    "Lets switch into the folder \n",
    "```bash\n",
    "cd damBreak\n",
    "```\n",
    "\n",
    "And after copying the above runscript into `run_job.slm` lets submit the job:\n",
    "\n",
    "```bash\n",
    "sbatch run_job.slm\n",
    "```"
   ]
  },
  {
   "cell_type": "markdown",
   "id": "better-change",
   "metadata": {},
   "source": [
    "## ANSYS\n",
    "\n",
    "```bash\n",
    "#!/bin/bash\n",
    "#SBATCH --job-name=Free_Surf\n",
    "#SBATCH --account=sysadmin\n",
    "#SBATCH --partition=spot-hc-44\n",
    "#SBATCH --time=2:00:00\n",
    "#SBATCH --nodes=1\n",
    "#SBATCH --tasks-per-node=44\n",
    "\n",
    "## Match the number of licenses to the cores requested\n",
    "#SBATCH --licenses=cfd_solve_level1@ansyslm:1,cfd_solve_level2@ansyslm:1,cfd_base@ansyslm:1\n",
    "\n",
    "env | grep SLURM | sort -d\n",
    "echo\n",
    "\n",
    "export CASE=\"Free_Surf\"\n",
    "\n",
    "## Load the required modules\n",
    "module load ansys/v212\n",
    "module list\n",
    "\n",
    "## Define files\n",
    "export DEFFILE=\"${CASE}.def\"\n",
    "\n",
    "## Define additional options\n",
    "OPTIONS=\"-double -batch\"\n",
    "\n",
    "CFX_PARALLEL=\"$CFX_BATCH_MODE $CFX_CCL_FILE $CFX_START_METHOD $CFX_PARTITION $CFX_PARTITIONER\"\n",
    "\n",
    "HOSTS=$(srun --ntasks-per-node $SLURM_CPUS_ON_NODE hostname | sort | uniq -c | awk '{print $2 \"*\" $1}' | paste -sd, -)\n",
    "echo \"HOSTS: $HOSTS\"\n",
    "echo \"\"\n",
    "\n",
    "# Run CFX5SOLVE\n",
    "cfx5solve -def Free_Surf.def ${OPTIONS} -start-method 'Intel MPI Distributed Parallel' -par-dist $HOSTS -partitioner ${CFXPARTITIONER}\n",
    "```"
   ]
  },
  {
   "cell_type": "code",
   "execution_count": null,
   "id": "missing-stanford",
   "metadata": {},
   "outputs": [],
   "source": []
  }
 ],
 "metadata": {
  "kernelspec": {
   "display_name": "Python 3",
   "language": "python",
   "name": "python3"
  },
  "language_info": {
   "codemirror_mode": {
    "name": "ipython",
    "version": 3
   },
   "file_extension": ".py",
   "mimetype": "text/x-python",
   "name": "python",
   "nbconvert_exporter": "python",
   "pygments_lexer": "ipython3",
   "version": "3.9.7"
  }
 },
 "nbformat": 4,
 "nbformat_minor": 5
}
